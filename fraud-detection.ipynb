{
 "cells": [
  {
   "cell_type": "markdown",
   "id": "0d0f8f33",
   "metadata": {
    "papermill": {
     "duration": 0.014919,
     "end_time": "2022-07-06T10:11:57.315146",
     "exception": false,
     "start_time": "2022-07-06T10:11:57.300227",
     "status": "completed"
    },
    "tags": []
   },
   "source": [
    "# Project: Fraud Detection\n",
    "\n",
    "## Problem Formulation\n",
    "\n",
    "Due to the private nature of financial data, there is a lack of publicly available datasets that can be used for analysis. In this project, a synthetic dataset, publicly available on Kaggle, generated using a simulator called PaySim is used. The dataset was generated using aggregated metrics from the private dataset of a multinational mobile financial\n",
    "services company.\n",
    "\n",
    "There are 6362620 instances of data set,  The data set has 11 attributes which include is \n",
    "- Type of transactions\n",
    "- Amount transacted\n",
    "- Customer ID and Recipient ID\n",
    "- Old and New balance of Customer and Recipient\n",
    "- Time step of the transaction\n",
    "- Whether the transaction was fraudulent or not\n",
    "\n",
    "## Problem Statement\n",
    "\n",
    "Leverage the given data set to build an End-to-End Data Science Project and find whether a transaction is Fradulent or not."
   ]
  },
  {
   "cell_type": "markdown",
   "id": "da4d5f21",
   "metadata": {
    "papermill": {
     "duration": 0.013015,
     "end_time": "2022-07-06T10:11:57.341730",
     "exception": false,
     "start_time": "2022-07-06T10:11:57.328715",
     "status": "completed"
    },
    "tags": []
   },
   "source": [
    "## Hypothesis Generation\n",
    "\n",
    "This is one of the important stages in any Data Science/Machine Learning pipeline. It involves understanding the problem in detail by brainstorming as many factors as possible which can impact the outcome. It is done by understanding the problem statement thoroughly and before looking at the data.\n",
    "\n",
    "Below are some of the factors which I think can highly affect the target i.e. Fraudulent transaction:\n",
    "\n",
    "- **Type of transaction:** Based on the type (mode) of payment might impact the fradulent transaction.\n",
    "\n",
    "- **Amount:** The amount of transaction can decide the transaction is fradulent or not, we can find unusual activities through the amount of transaction.\n",
    "\n",
    "- **Initial Balance and Balance left:** By comparing account balances before the transcation and after transaction we might able to find whether there is unusual activity is happened or not "
   ]
  },
  {
   "cell_type": "markdown",
   "id": "e0efab7b",
   "metadata": {
    "papermill": {
     "duration": 0.013038,
     "end_time": "2022-07-06T10:11:57.369355",
     "exception": false,
     "start_time": "2022-07-06T10:11:57.356317",
     "status": "completed"
    },
    "tags": []
   },
   "source": [
    "## Steps to follow\n",
    "\n",
    "It is a Binary Classification Problem\n",
    "\n",
    "- **General Overview:** Have a General Overview of the data\n",
    "- **EDA:** Perform Exploratory Data Analysis(EDA) to gain more clear insights of the data\n",
    "- **Data Preprocessing:** With the information gained after performing EDA, Preprocess the Data accordingly\n",
    "- **Model Building:** Once the data is properly cleaned and preprocessed, use this data to build a Machine Learning\n",
    "- **Hyperparameter Tuning:** Tune the Hyperparameters of the best performing model\n",
    "- **Model Performance:** Assess the Performance of the Model on the Testing data set\n",
    "- **Save the model:** Save the Best Performing Model\n",
    "- **Predictions:** Make Predictions on the Testing data set\n",
    "\n",
    "### After performing all the steps above, create a Web App and deploy the same on Cloud Platforms\n",
    " "
   ]
  },
  {
   "cell_type": "code",
   "execution_count": 1,
   "id": "f435137c",
   "metadata": {
    "execution": {
     "iopub.execute_input": "2022-07-06T10:11:57.399620Z",
     "iopub.status.busy": "2022-07-06T10:11:57.398724Z",
     "iopub.status.idle": "2022-07-06T10:11:59.047481Z",
     "shell.execute_reply": "2022-07-06T10:11:59.046128Z"
    },
    "papermill": {
     "duration": 1.667119,
     "end_time": "2022-07-06T10:11:59.050322",
     "exception": false,
     "start_time": "2022-07-06T10:11:57.383203",
     "status": "completed"
    },
    "tags": []
   },
   "outputs": [
    {
     "name": "stdout",
     "output_type": "stream",
     "text": [
      "/kaggle/input/paysim1/PS_20174392719_1491204439457_log.csv\n"
     ]
    }
   ],
   "source": [
    "# For performing any kind of Mathematical Operations\n",
    "import numpy as np\n",
    "# For dealing with DataFrames\n",
    "import pandas as pd\n",
    "\n",
    "# For Data Visualization\n",
    "import matplotlib.pyplot as plt\n",
    "# For visualizing the plottings better\n",
    "%matplotlib inline\n",
    "# For Data Visualization\n",
    "import seaborn as sns\n",
    "\n",
    "# Preprocessing modules\n",
    "from sklearn.model_selection import train_test_split, RandomizedSearchCV, cross_val_score\n",
    "from sklearn.preprocessing import OneHotEncoder\n",
    "\n",
    "# Model\n",
    "from sklearn.linear_model import LogisticRegression\n",
    "from sklearn.svm import SVC\n",
    "from sklearn.ensemble import RandomForestClassifier\n",
    "# Metrics\n",
    "from sklearn.metrics import plot_confusion_matrix, classification_report, plot_roc_curve\n",
    "\n",
    "# Saving the model\n",
    "import pickle\n",
    "\n",
    "## to ignore waarning\n",
    "import warnings\n",
    "warnings.filterwarnings(\"ignore\")#, category=DeprecationWarning)\n",
    "\n",
    "\n",
    "import os\n",
    "for dirname, _, filenames in os.walk('/kaggle/input'):\n",
    "    for filename in filenames:\n",
    "        print(os.path.join(dirname, filename))"
   ]
  },
  {
   "cell_type": "code",
   "execution_count": 2,
   "id": "f35e21ca",
   "metadata": {
    "execution": {
     "iopub.execute_input": "2022-07-06T10:11:59.082291Z",
     "iopub.status.busy": "2022-07-06T10:11:59.081761Z",
     "iopub.status.idle": "2022-07-06T10:12:18.824345Z",
     "shell.execute_reply": "2022-07-06T10:12:18.823213Z"
    },
    "papermill": {
     "duration": 19.761028,
     "end_time": "2022-07-06T10:12:18.826689",
     "exception": false,
     "start_time": "2022-07-06T10:11:59.065661",
     "status": "completed"
    },
    "tags": []
   },
   "outputs": [
    {
     "data": {
      "text/html": [
       "<div>\n",
       "<style scoped>\n",
       "    .dataframe tbody tr th:only-of-type {\n",
       "        vertical-align: middle;\n",
       "    }\n",
       "\n",
       "    .dataframe tbody tr th {\n",
       "        vertical-align: top;\n",
       "    }\n",
       "\n",
       "    .dataframe thead th {\n",
       "        text-align: right;\n",
       "    }\n",
       "</style>\n",
       "<table border=\"1\" class=\"dataframe\">\n",
       "  <thead>\n",
       "    <tr style=\"text-align: right;\">\n",
       "      <th></th>\n",
       "      <th>step</th>\n",
       "      <th>type</th>\n",
       "      <th>amount</th>\n",
       "      <th>nameOrig</th>\n",
       "      <th>oldbalanceOrg</th>\n",
       "      <th>newbalanceOrig</th>\n",
       "      <th>nameDest</th>\n",
       "      <th>oldbalanceDest</th>\n",
       "      <th>newbalanceDest</th>\n",
       "      <th>isFraud</th>\n",
       "      <th>isFlaggedFraud</th>\n",
       "    </tr>\n",
       "  </thead>\n",
       "  <tbody>\n",
       "    <tr>\n",
       "      <th>0</th>\n",
       "      <td>1</td>\n",
       "      <td>PAYMENT</td>\n",
       "      <td>9839.64</td>\n",
       "      <td>C1231006815</td>\n",
       "      <td>170136.0</td>\n",
       "      <td>160296.36</td>\n",
       "      <td>M1979787155</td>\n",
       "      <td>0.0</td>\n",
       "      <td>0.0</td>\n",
       "      <td>0</td>\n",
       "      <td>0</td>\n",
       "    </tr>\n",
       "    <tr>\n",
       "      <th>1</th>\n",
       "      <td>1</td>\n",
       "      <td>PAYMENT</td>\n",
       "      <td>1864.28</td>\n",
       "      <td>C1666544295</td>\n",
       "      <td>21249.0</td>\n",
       "      <td>19384.72</td>\n",
       "      <td>M2044282225</td>\n",
       "      <td>0.0</td>\n",
       "      <td>0.0</td>\n",
       "      <td>0</td>\n",
       "      <td>0</td>\n",
       "    </tr>\n",
       "    <tr>\n",
       "      <th>2</th>\n",
       "      <td>1</td>\n",
       "      <td>TRANSFER</td>\n",
       "      <td>181.00</td>\n",
       "      <td>C1305486145</td>\n",
       "      <td>181.0</td>\n",
       "      <td>0.00</td>\n",
       "      <td>C553264065</td>\n",
       "      <td>0.0</td>\n",
       "      <td>0.0</td>\n",
       "      <td>1</td>\n",
       "      <td>0</td>\n",
       "    </tr>\n",
       "    <tr>\n",
       "      <th>3</th>\n",
       "      <td>1</td>\n",
       "      <td>CASH_OUT</td>\n",
       "      <td>181.00</td>\n",
       "      <td>C840083671</td>\n",
       "      <td>181.0</td>\n",
       "      <td>0.00</td>\n",
       "      <td>C38997010</td>\n",
       "      <td>21182.0</td>\n",
       "      <td>0.0</td>\n",
       "      <td>1</td>\n",
       "      <td>0</td>\n",
       "    </tr>\n",
       "    <tr>\n",
       "      <th>4</th>\n",
       "      <td>1</td>\n",
       "      <td>PAYMENT</td>\n",
       "      <td>11668.14</td>\n",
       "      <td>C2048537720</td>\n",
       "      <td>41554.0</td>\n",
       "      <td>29885.86</td>\n",
       "      <td>M1230701703</td>\n",
       "      <td>0.0</td>\n",
       "      <td>0.0</td>\n",
       "      <td>0</td>\n",
       "      <td>0</td>\n",
       "    </tr>\n",
       "  </tbody>\n",
       "</table>\n",
       "</div>"
      ],
      "text/plain": [
       "   step      type    amount     nameOrig  oldbalanceOrg  newbalanceOrig  \\\n",
       "0     1   PAYMENT   9839.64  C1231006815       170136.0       160296.36   \n",
       "1     1   PAYMENT   1864.28  C1666544295        21249.0        19384.72   \n",
       "2     1  TRANSFER    181.00  C1305486145          181.0            0.00   \n",
       "3     1  CASH_OUT    181.00   C840083671          181.0            0.00   \n",
       "4     1   PAYMENT  11668.14  C2048537720        41554.0        29885.86   \n",
       "\n",
       "      nameDest  oldbalanceDest  newbalanceDest  isFraud  isFlaggedFraud  \n",
       "0  M1979787155             0.0             0.0        0               0  \n",
       "1  M2044282225             0.0             0.0        0               0  \n",
       "2   C553264065             0.0             0.0        1               0  \n",
       "3    C38997010         21182.0             0.0        1               0  \n",
       "4  M1230701703             0.0             0.0        0               0  "
      ]
     },
     "execution_count": 2,
     "metadata": {},
     "output_type": "execute_result"
    }
   ],
   "source": [
    "data = pd.read_csv('../input/paysim1/PS_20174392719_1491204439457_log.csv')\n",
    "data.head()"
   ]
  },
  {
   "cell_type": "code",
   "execution_count": 3,
   "id": "6b486c64",
   "metadata": {
    "execution": {
     "iopub.execute_input": "2022-07-06T10:12:18.857619Z",
     "iopub.status.busy": "2022-07-06T10:12:18.857070Z",
     "iopub.status.idle": "2022-07-06T10:12:19.505531Z",
     "shell.execute_reply": "2022-07-06T10:12:19.504350Z"
    },
    "papermill": {
     "duration": 0.667635,
     "end_time": "2022-07-06T10:12:19.508870",
     "exception": false,
     "start_time": "2022-07-06T10:12:18.841235",
     "status": "completed"
    },
    "tags": []
   },
   "outputs": [
    {
     "data": {
      "text/html": [
       "<div>\n",
       "<style scoped>\n",
       "    .dataframe tbody tr th:only-of-type {\n",
       "        vertical-align: middle;\n",
       "    }\n",
       "\n",
       "    .dataframe tbody tr th {\n",
       "        vertical-align: top;\n",
       "    }\n",
       "\n",
       "    .dataframe thead th {\n",
       "        text-align: right;\n",
       "    }\n",
       "</style>\n",
       "<table border=\"1\" class=\"dataframe\">\n",
       "  <thead>\n",
       "    <tr style=\"text-align: right;\">\n",
       "      <th></th>\n",
       "      <th>step</th>\n",
       "      <th>type</th>\n",
       "      <th>amount</th>\n",
       "      <th>nameOrig</th>\n",
       "      <th>oldbalanceOrg</th>\n",
       "      <th>newbalanceOrig</th>\n",
       "      <th>nameDest</th>\n",
       "      <th>oldbalanceDest</th>\n",
       "      <th>newbalanceDest</th>\n",
       "      <th>isFraud</th>\n",
       "      <th>isFlaggedFraud</th>\n",
       "    </tr>\n",
       "  </thead>\n",
       "  <tbody>\n",
       "    <tr>\n",
       "      <th>0</th>\n",
       "      <td>1</td>\n",
       "      <td>PAYMENT</td>\n",
       "      <td>9839.64</td>\n",
       "      <td>C1231006815</td>\n",
       "      <td>170136.0</td>\n",
       "      <td>160296.36</td>\n",
       "      <td>M1979787155</td>\n",
       "      <td>0.0</td>\n",
       "      <td>0.0</td>\n",
       "      <td>0</td>\n",
       "      <td>0</td>\n",
       "    </tr>\n",
       "    <tr>\n",
       "      <th>1</th>\n",
       "      <td>1</td>\n",
       "      <td>PAYMENT</td>\n",
       "      <td>1864.28</td>\n",
       "      <td>C1666544295</td>\n",
       "      <td>21249.0</td>\n",
       "      <td>19384.72</td>\n",
       "      <td>M2044282225</td>\n",
       "      <td>0.0</td>\n",
       "      <td>0.0</td>\n",
       "      <td>0</td>\n",
       "      <td>0</td>\n",
       "    </tr>\n",
       "    <tr>\n",
       "      <th>2</th>\n",
       "      <td>1</td>\n",
       "      <td>TRANSFER</td>\n",
       "      <td>181.00</td>\n",
       "      <td>C1305486145</td>\n",
       "      <td>181.0</td>\n",
       "      <td>0.00</td>\n",
       "      <td>C553264065</td>\n",
       "      <td>0.0</td>\n",
       "      <td>0.0</td>\n",
       "      <td>1</td>\n",
       "      <td>0</td>\n",
       "    </tr>\n",
       "    <tr>\n",
       "      <th>3</th>\n",
       "      <td>1</td>\n",
       "      <td>CASH_OUT</td>\n",
       "      <td>181.00</td>\n",
       "      <td>C840083671</td>\n",
       "      <td>181.0</td>\n",
       "      <td>0.00</td>\n",
       "      <td>C38997010</td>\n",
       "      <td>21182.0</td>\n",
       "      <td>0.0</td>\n",
       "      <td>1</td>\n",
       "      <td>0</td>\n",
       "    </tr>\n",
       "    <tr>\n",
       "      <th>4</th>\n",
       "      <td>1</td>\n",
       "      <td>PAYMENT</td>\n",
       "      <td>11668.14</td>\n",
       "      <td>C2048537720</td>\n",
       "      <td>41554.0</td>\n",
       "      <td>29885.86</td>\n",
       "      <td>M1230701703</td>\n",
       "      <td>0.0</td>\n",
       "      <td>0.0</td>\n",
       "      <td>0</td>\n",
       "      <td>0</td>\n",
       "    </tr>\n",
       "  </tbody>\n",
       "</table>\n",
       "</div>"
      ],
      "text/plain": [
       "   step      type    amount     nameOrig  oldbalanceOrg  newbalanceOrig  \\\n",
       "0     1   PAYMENT   9839.64  C1231006815       170136.0       160296.36   \n",
       "1     1   PAYMENT   1864.28  C1666544295        21249.0        19384.72   \n",
       "2     1  TRANSFER    181.00  C1305486145          181.0            0.00   \n",
       "3     1  CASH_OUT    181.00   C840083671          181.0            0.00   \n",
       "4     1   PAYMENT  11668.14  C2048537720        41554.0        29885.86   \n",
       "\n",
       "      nameDest  oldbalanceDest  newbalanceDest  isFraud  isFlaggedFraud  \n",
       "0  M1979787155             0.0             0.0        0               0  \n",
       "1  M2044282225             0.0             0.0        0               0  \n",
       "2   C553264065             0.0             0.0        1               0  \n",
       "3    C38997010         21182.0             0.0        1               0  \n",
       "4  M1230701703             0.0             0.0        0               0  "
      ]
     },
     "execution_count": 3,
     "metadata": {},
     "output_type": "execute_result"
    }
   ],
   "source": [
    "df = data.copy()\n",
    "df.head()"
   ]
  },
  {
   "cell_type": "markdown",
   "id": "af5ab0f2",
   "metadata": {
    "papermill": {
     "duration": 0.013632,
     "end_time": "2022-07-06T10:12:19.536490",
     "exception": false,
     "start_time": "2022-07-06T10:12:19.522858",
     "status": "completed"
    },
    "tags": []
   },
   "source": [
    "### A] Having an Overview of the data set"
   ]
  },
  {
   "cell_type": "code",
   "execution_count": 4,
   "id": "afb29396",
   "metadata": {
    "execution": {
     "iopub.execute_input": "2022-07-06T10:12:19.567867Z",
     "iopub.status.busy": "2022-07-06T10:12:19.566915Z",
     "iopub.status.idle": "2022-07-06T10:12:19.590479Z",
     "shell.execute_reply": "2022-07-06T10:12:19.589369Z"
    },
    "papermill": {
     "duration": 0.04172,
     "end_time": "2022-07-06T10:12:19.592936",
     "exception": false,
     "start_time": "2022-07-06T10:12:19.551216",
     "status": "completed"
    },
    "tags": []
   },
   "outputs": [
    {
     "name": "stdout",
     "output_type": "stream",
     "text": [
      "<class 'pandas.core.frame.DataFrame'>\n",
      "RangeIndex: 6362620 entries, 0 to 6362619\n",
      "Data columns (total 11 columns):\n",
      " #   Column          Dtype  \n",
      "---  ------          -----  \n",
      " 0   step            int64  \n",
      " 1   type            object \n",
      " 2   amount          float64\n",
      " 3   nameOrig        object \n",
      " 4   oldbalanceOrg   float64\n",
      " 5   newbalanceOrig  float64\n",
      " 6   nameDest        object \n",
      " 7   oldbalanceDest  float64\n",
      " 8   newbalanceDest  float64\n",
      " 9   isFraud         int64  \n",
      " 10  isFlaggedFraud  int64  \n",
      "dtypes: float64(5), int64(3), object(3)\n",
      "memory usage: 534.0+ MB\n"
     ]
    }
   ],
   "source": [
    "# Data set contains 'int64' & 'object' & 'float64' types of data\n",
    "df.info()"
   ]
  },
  {
   "cell_type": "code",
   "execution_count": 5,
   "id": "b5f7bb37",
   "metadata": {
    "execution": {
     "iopub.execute_input": "2022-07-06T10:12:19.624668Z",
     "iopub.status.busy": "2022-07-06T10:12:19.623692Z",
     "iopub.status.idle": "2022-07-06T10:12:20.603998Z",
     "shell.execute_reply": "2022-07-06T10:12:20.602670Z"
    },
    "papermill": {
     "duration": 0.998901,
     "end_time": "2022-07-06T10:12:20.606529",
     "exception": false,
     "start_time": "2022-07-06T10:12:19.607628",
     "status": "completed"
    },
    "tags": []
   },
   "outputs": [
    {
     "data": {
      "text/plain": [
       "0"
      ]
     },
     "execution_count": 5,
     "metadata": {},
     "output_type": "execute_result"
    }
   ],
   "source": [
    "# No null values present within the data set\n",
    "\n",
    "df.isnull().sum().sum()"
   ]
  },
  {
   "cell_type": "code",
   "execution_count": 6,
   "id": "bb17487f",
   "metadata": {
    "execution": {
     "iopub.execute_input": "2022-07-06T10:12:20.638839Z",
     "iopub.status.busy": "2022-07-06T10:12:20.638345Z",
     "iopub.status.idle": "2022-07-06T10:12:20.681619Z",
     "shell.execute_reply": "2022-07-06T10:12:20.680378Z"
    },
    "papermill": {
     "duration": 0.063028,
     "end_time": "2022-07-06T10:12:20.684504",
     "exception": false,
     "start_time": "2022-07-06T10:12:20.621476",
     "status": "completed"
    },
    "tags": []
   },
   "outputs": [
    {
     "data": {
      "text/plain": [
       "array([0, 1])"
      ]
     },
     "execution_count": 6,
     "metadata": {},
     "output_type": "execute_result"
    }
   ],
   "source": [
    "#we have all 0s & 1s in our Target Feature and its a binary classification problem\n",
    "df['isFraud'].unique()"
   ]
  },
  {
   "cell_type": "markdown",
   "id": "0af4bfa6",
   "metadata": {
    "papermill": {
     "duration": 0.014069,
     "end_time": "2022-07-06T10:12:20.712963",
     "exception": false,
     "start_time": "2022-07-06T10:12:20.698894",
     "status": "completed"
    },
    "tags": []
   },
   "source": [
    "### Checking whether the data set is balanced or not"
   ]
  },
  {
   "cell_type": "code",
   "execution_count": 7,
   "id": "d3e65468",
   "metadata": {
    "execution": {
     "iopub.execute_input": "2022-07-06T10:12:20.744829Z",
     "iopub.status.busy": "2022-07-06T10:12:20.744008Z",
     "iopub.status.idle": "2022-07-06T10:12:20.787523Z",
     "shell.execute_reply": "2022-07-06T10:12:20.786459Z"
    },
    "papermill": {
     "duration": 0.062406,
     "end_time": "2022-07-06T10:12:20.789637",
     "exception": false,
     "start_time": "2022-07-06T10:12:20.727231",
     "status": "completed"
    },
    "tags": []
   },
   "outputs": [
    {
     "data": {
      "text/plain": [
       "0    6354407\n",
       "1       8213\n",
       "Name: isFraud, dtype: int64"
      ]
     },
     "execution_count": 7,
     "metadata": {},
     "output_type": "execute_result"
    }
   ],
   "source": [
    "# checking whether the data is balanced or not. \n",
    "# and it seems the dataset is imbalanced, so to deal with imbalanceness we will introduce class_weights while building the model\n",
    "\n",
    "df['isFraud'].value_counts()"
   ]
  },
  {
   "cell_type": "code",
   "execution_count": 8,
   "id": "9603af19",
   "metadata": {
    "execution": {
     "iopub.execute_input": "2022-07-06T10:12:20.821683Z",
     "iopub.status.busy": "2022-07-06T10:12:20.821207Z",
     "iopub.status.idle": "2022-07-06T10:12:21.733521Z",
     "shell.execute_reply": "2022-07-06T10:12:21.732410Z"
    },
    "papermill": {
     "duration": 0.93105,
     "end_time": "2022-07-06T10:12:21.735883",
     "exception": false,
     "start_time": "2022-07-06T10:12:20.804833",
     "status": "completed"
    },
    "tags": []
   },
   "outputs": [
    {
     "data": {
      "image/png": "[encoded data removed]",
      "text/plain": [
       "<Figure size 432x288 with 1 Axes>"
      ]
     },
     "metadata": {
      "needs_background": "light"
     },
     "output_type": "display_data"
    }
   ],
   "source": [
    "# Visualizing the distribution of the Target variable\n",
    "\n",
    "sns.countplot(df['isFraud'])\n",
    "plt.show()"
   ]
  },
  {
   "cell_type": "code",
   "execution_count": 9,
   "id": "2f9435f8",
   "metadata": {
    "execution": {
     "iopub.execute_input": "2022-07-06T10:12:21.767976Z",
     "iopub.status.busy": "2022-07-06T10:12:21.767330Z",
     "iopub.status.idle": "2022-07-06T10:12:21.772847Z",
     "shell.execute_reply": "2022-07-06T10:12:21.772172Z"
    },
    "papermill": {
     "duration": 0.024047,
     "end_time": "2022-07-06T10:12:21.774724",
     "exception": false,
     "start_time": "2022-07-06T10:12:21.750677",
     "status": "completed"
    },
    "tags": []
   },
   "outputs": [
    {
     "data": {
      "text/plain": [
       "(6362620, 11)"
      ]
     },
     "execution_count": 9,
     "metadata": {},
     "output_type": "execute_result"
    }
   ],
   "source": [
    "df.shape"
   ]
  },
  {
   "cell_type": "code",
   "execution_count": 10,
   "id": "7c35baea",
   "metadata": {
    "execution": {
     "iopub.execute_input": "2022-07-06T10:12:21.808701Z",
     "iopub.status.busy": "2022-07-06T10:12:21.807857Z",
     "iopub.status.idle": "2022-07-06T10:12:21.814172Z",
     "shell.execute_reply": "2022-07-06T10:12:21.813264Z"
    },
    "papermill": {
     "duration": 0.025941,
     "end_time": "2022-07-06T10:12:21.816236",
     "exception": false,
     "start_time": "2022-07-06T10:12:21.790295",
     "status": "completed"
    },
    "tags": []
   },
   "outputs": [
    {
     "data": {
      "text/plain": [
       "99.87091795518198"
      ]
     },
     "execution_count": 10,
     "metadata": {},
     "output_type": "execute_result"
    }
   ],
   "source": [
    "# non fradulent transactions are \n",
    "\n",
    "100*(6354407/6362620)\n"
   ]
  },
  {
   "cell_type": "markdown",
   "id": "1a2a3f26",
   "metadata": {
    "execution": {
     "iopub.execute_input": "2022-06-17T04:55:18.316372Z",
     "iopub.status.busy": "2022-06-17T04:55:18.312821Z",
     "iopub.status.idle": "2022-06-17T04:55:18.32384Z",
     "shell.execute_reply": "2022-06-17T04:55:18.323027Z",
     "shell.execute_reply.started": "2022-06-17T04:55:18.316309Z"
    },
    "papermill": {
     "duration": 0.015344,
     "end_time": "2022-07-06T10:12:21.847087",
     "exception": false,
     "start_time": "2022-07-06T10:12:21.831743",
     "status": "completed"
    },
    "tags": []
   },
   "source": [
    "#### fradulent transactions are \n",
    "\n",
    "100*(8213/6354407)\n"
   ]
  },
  {
   "cell_type": "markdown",
   "id": "2d60a05e",
   "metadata": {
    "papermill": {
     "duration": 0.015146,
     "end_time": "2022-07-06T10:12:21.878209",
     "exception": false,
     "start_time": "2022-07-06T10:12:21.863063",
     "status": "completed"
    },
    "tags": []
   },
   "source": [
    "#### There is almost a 99% - 0.1% distribution of the Target values which seems data is highly unbalanced\n",
    "\n",
    " To deal with imbalanced data we will use class_weights as this is a finance dataset, because for the finance dataset if use oversampling or undersampling or smote they will create fake data points or duplicate data points, in the financial problems we need accurate information otherwise it will mislead us and we may end up with a bad model.\n",
    "\n",
    " so we give different weights to both the majority and minority classes. The whole purpose is to penalize the misclassification made by the minority class by setting a higher class weight and at the same time reducing weight for the majority class, which helps us optimize the scoring for the minority class and the algorithm could focus on reducing the errors for the minority class"
   ]
  },
  {
   "cell_type": "markdown",
   "id": "e9c5afa6",
   "metadata": {
    "papermill": {
     "duration": 0.016968,
     "end_time": "2022-07-06T10:12:21.910875",
     "exception": false,
     "start_time": "2022-07-06T10:12:21.893907",
     "status": "completed"
    },
    "tags": []
   },
   "source": [
    "#### Checking for Correlation among the Predictors\n",
    "\n",
    "##### Correlation Heatmap\n"
   ]
  },
  {
   "cell_type": "code",
   "execution_count": 11,
   "id": "dd3dd81d",
   "metadata": {
    "execution": {
     "iopub.execute_input": "2022-07-06T10:12:21.945377Z",
     "iopub.status.busy": "2022-07-06T10:12:21.944589Z",
     "iopub.status.idle": "2022-07-06T10:12:24.171523Z",
     "shell.execute_reply": "2022-07-06T10:12:24.170576Z"
    },
    "papermill": {
     "duration": 2.246822,
     "end_time": "2022-07-06T10:12:24.174231",
     "exception": false,
     "start_time": "2022-07-06T10:12:21.927409",
     "status": "completed"
    },
    "tags": []
   },
   "outputs": [
    {
     "data": {
      "image/png": "[encoded data removed]",
      "text/plain": [
       "<Figure size 1800x1080 with 2 Axes>"
      ]
     },
     "metadata": {
      "needs_background": "light"
     },
     "output_type": "display_data"
    }
   ],
   "source": [
    "corr = df.corr()\n",
    "\n",
    "plt.figure(figsize=(25, 15))\n",
    "sns.heatmap(corr, annot=True, cmap='RdYlGn')\n",
    "plt.show()"
   ]
  },
  {
   "cell_type": "markdown",
   "id": "b586a05d",
   "metadata": {
    "papermill": {
     "duration": 0.015654,
     "end_time": "2022-07-06T10:12:24.207449",
     "exception": false,
     "start_time": "2022-07-06T10:12:24.191795",
     "status": "completed"
    },
    "tags": []
   },
   "source": [
    "#####  Here we can observe that there are some independent variables correlated with each other.\n",
    "\n",
    "1. Input features oldbalanceDest and newbalanceDest are correlated with each other so we had to drop one of the feature. To decide which one to drop amongst them we have to check their correlation with dependent feature (isFraud), oldbalanceDest is highly negatively correlated (-0.0059) with target feature than newbalanceDest (0.00054). here i have to drop the newbalanceDest feature.\n",
    "\n",
    "2. likewise above oldbalanceOrig and newbalanceOrig are also correlated with each other and newbalanceOrig is highly negatively correlated (-0.0081) with target feature than oldbalanceOrg (0.01). here i have to drop the oldbalanceOrg feature.\n",
    "\n",
    "\n",
    "##### now i have to drop newbalanceDest and oldbalanceOrig features from the data"
   ]
  },
  {
   "cell_type": "markdown",
   "id": "7030c714",
   "metadata": {
    "papermill": {
     "duration": 0.015296,
     "end_time": "2022-07-06T10:12:24.239537",
     "exception": false,
     "start_time": "2022-07-06T10:12:24.224241",
     "status": "completed"
    },
    "tags": []
   },
   "source": [
    "### B] Data Visualization and Exploratory Data Analysis (EDA)"
   ]
  },
  {
   "cell_type": "markdown",
   "id": "e82f4a86",
   "metadata": {
    "papermill": {
     "duration": 0.015377,
     "end_time": "2022-07-06T10:12:24.270708",
     "exception": false,
     "start_time": "2022-07-06T10:12:24.255331",
     "status": "completed"
    },
    "tags": []
   },
   "source": [
    "#### a) Visualizing varibales\n",
    "\n",
    "Plotting Bar Graphs in order to visualize to see the distributions"
   ]
  },
  {
   "cell_type": "code",
   "execution_count": 12,
   "id": "0397906e",
   "metadata": {
    "execution": {
     "iopub.execute_input": "2022-07-06T10:12:24.307037Z",
     "iopub.status.busy": "2022-07-06T10:12:24.306198Z",
     "iopub.status.idle": "2022-07-06T10:12:24.731122Z",
     "shell.execute_reply": "2022-07-06T10:12:24.729701Z"
    },
    "papermill": {
     "duration": 0.445268,
     "end_time": "2022-07-06T10:12:24.733875",
     "exception": false,
     "start_time": "2022-07-06T10:12:24.288607",
     "status": "completed"
    },
    "tags": []
   },
   "outputs": [
    {
     "data": {
      "text/plain": [
       "CASH_OUT    2237500\n",
       "PAYMENT     2151495\n",
       "CASH_IN     1399284\n",
       "TRANSFER     532909\n",
       "DEBIT         41432\n",
       "Name: type, dtype: int64"
      ]
     },
     "execution_count": 12,
     "metadata": {},
     "output_type": "execute_result"
    }
   ],
   "source": [
    "df['type'].value_counts()"
   ]
  },
  {
   "cell_type": "code",
   "execution_count": 13,
   "id": "cedff407",
   "metadata": {
    "execution": {
     "iopub.execute_input": "2022-07-06T10:12:24.769116Z",
     "iopub.status.busy": "2022-07-06T10:12:24.768652Z",
     "iopub.status.idle": "2022-07-06T10:12:28.949343Z",
     "shell.execute_reply": "2022-07-06T10:12:28.948136Z"
    },
    "papermill": {
     "duration": 4.201271,
     "end_time": "2022-07-06T10:12:28.951995",
     "exception": false,
     "start_time": "2022-07-06T10:12:24.750724",
     "status": "completed"
    },
    "tags": []
   },
   "outputs": [
    {
     "data": {
      "image/png": "[encoded data removed]",
      "text/plain": [
       "<Figure size 432x288 with 1 Axes>"
      ]
     },
     "metadata": {
      "needs_background": "light"
     },
     "output_type": "display_data"
    }
   ],
   "source": [
    "sns.countplot(df['type'])\n",
    "plt.show()"
   ]
  },
  {
   "cell_type": "markdown",
   "id": "da5b5f82",
   "metadata": {
    "papermill": {
     "duration": 0.01622,
     "end_time": "2022-07-06T10:12:28.984618",
     "exception": false,
     "start_time": "2022-07-06T10:12:28.968398",
     "status": "completed"
    },
    "tags": []
   },
   "source": [
    "The most frequent transaction types are CASH-OUT and PAYMENT"
   ]
  },
  {
   "cell_type": "markdown",
   "id": "453d333a",
   "metadata": {
    "papermill": {
     "duration": 0.016203,
     "end_time": "2022-07-06T10:12:29.018059",
     "exception": false,
     "start_time": "2022-07-06T10:12:29.001856",
     "status": "completed"
    },
    "tags": []
   },
   "source": [
    "#### Fraud Transactions by Transaction Type"
   ]
  },
  {
   "cell_type": "code",
   "execution_count": 14,
   "id": "c8f867c2",
   "metadata": {
    "execution": {
     "iopub.execute_input": "2022-07-06T10:12:29.055703Z",
     "iopub.status.busy": "2022-07-06T10:12:29.055141Z",
     "iopub.status.idle": "2022-07-06T10:12:30.203359Z",
     "shell.execute_reply": "2022-07-06T10:12:30.202266Z"
    },
    "papermill": {
     "duration": 1.170224,
     "end_time": "2022-07-06T10:12:30.205861",
     "exception": false,
     "start_time": "2022-07-06T10:12:29.035637",
     "status": "completed"
    },
    "tags": []
   },
   "outputs": [
    {
     "data": {
      "image/png": "[encoded data removed]",
      "text/plain": [
       "<Figure size 432x288 with 1 Axes>"
      ]
     },
     "metadata": {
      "needs_background": "light"
     },
     "output_type": "display_data"
    }
   ],
   "source": [
    "fraud_type = df.groupby(['type', 'isFraud']).size().plot(kind='bar')\n",
    "fraud_type.set_title(\" Frequencies of transaction which are the actual fraud per transaction type \\n\" )\n",
    "fraud_type.set_xlabel(\"(Type of Payment, isFraud)\")\n",
    "fraud_type.set_ylabel(\"Count of transaction\")\n",
    "\n",
    "plt.show()"
   ]
  },
  {
   "cell_type": "markdown",
   "id": "42b9aba6",
   "metadata": {
    "papermill": {
     "duration": 0.016348,
     "end_time": "2022-07-06T10:12:30.238794",
     "exception": false,
     "start_time": "2022-07-06T10:12:30.222446",
     "status": "completed"
    },
    "tags": []
   },
   "source": [
    "#### Split of Fraud Transactions by Transaction Type"
   ]
  },
  {
   "cell_type": "code",
   "execution_count": 15,
   "id": "8ef96952",
   "metadata": {
    "execution": {
     "iopub.execute_input": "2022-07-06T10:12:30.275453Z",
     "iopub.status.busy": "2022-07-06T10:12:30.274707Z",
     "iopub.status.idle": "2022-07-06T10:12:30.480211Z",
     "shell.execute_reply": "2022-07-06T10:12:30.478981Z"
    },
    "papermill": {
     "duration": 0.226152,
     "end_time": "2022-07-06T10:12:30.482493",
     "exception": false,
     "start_time": "2022-07-06T10:12:30.256341",
     "status": "completed"
    },
    "tags": []
   },
   "outputs": [
    {
     "data": {
      "image/png": "[encoded data removed]",
      "text/plain": [
       "<Figure size 432x288 with 1 Axes>"
      ]
     },
     "metadata": {
      "needs_background": "light"
     },
     "output_type": "display_data"
    }
   ],
   "source": [
    "fraud = df['isFraud'].isin([1])\n",
    "\n",
    "fraud_time = df[fraud].groupby(['type']).size().plot(kind='bar')\n",
    "fraud_time.set_xlabel(\"Transaction Type\")\n",
    "\n",
    "plt.show()"
   ]
  },
  {
   "cell_type": "markdown",
   "id": "f0c0998f",
   "metadata": {
    "papermill": {
     "duration": 0.023915,
     "end_time": "2022-07-06T10:12:30.524065",
     "exception": false,
     "start_time": "2022-07-06T10:12:30.500150",
     "status": "completed"
    },
    "tags": []
   },
   "source": [
    "The fraudulent transactions are splitted in an equal percentage. \n",
    "\n",
    "Only CASH-OUT and TRANSFER transactions can be fraudulent."
   ]
  },
  {
   "cell_type": "markdown",
   "id": "96db5025",
   "metadata": {
    "papermill": {
     "duration": 0.017377,
     "end_time": "2022-07-06T10:12:30.560225",
     "exception": false,
     "start_time": "2022-07-06T10:12:30.542848",
     "status": "completed"
    },
    "tags": []
   },
   "source": [
    "#### Checking the account balance is matching before transaction and after the transaction for both originator and recipient "
   ]
  },
  {
   "cell_type": "code",
   "execution_count": 16,
   "id": "3db658bc",
   "metadata": {
    "execution": {
     "iopub.execute_input": "2022-07-06T10:12:30.596457Z",
     "iopub.status.busy": "2022-07-06T10:12:30.595651Z",
     "iopub.status.idle": "2022-07-06T10:12:30.854235Z",
     "shell.execute_reply": "2022-07-06T10:12:30.852578Z"
    },
    "papermill": {
     "duration": 0.279754,
     "end_time": "2022-07-06T10:12:30.856851",
     "exception": false,
     "start_time": "2022-07-06T10:12:30.577097",
     "status": "completed"
    },
    "tags": []
   },
   "outputs": [
    {
     "name": "stdout",
     "output_type": "stream",
     "text": [
      "Are there any mismatch in the balance at origin and destination after transaction?\n",
      "Balance Error(%) at the origin: 85.09\n",
      "Balance Error(%) at the destination: 74.45\n"
     ]
    }
   ],
   "source": [
    "print(\"Are there any mismatch in the balance at origin and destination after transaction?\")\n",
    "\n",
    "df['origBalance_inacc'] = (df[\"oldbalanceOrg\"] - df[\"amount\"] != df[\"newbalanceOrig\"]).astype(int)\n",
    "df['destBalance_inacc'] = (df[\"oldbalanceDest\"] + df[\"amount\"] != df[\"newbalanceDest\"]).astype(int)\n",
    "\n",
    "print(\"Balance Error(%) at the origin:\",round(df['origBalance_inacc'].value_counts()[1]/df.shape[0] * 100,2))\n",
    "\n",
    "print(\"Balance Error(%) at the destination:\",round(df['destBalance_inacc'].value_counts()[1]/df.shape[0] * 100,2))"
   ]
  },
  {
   "cell_type": "markdown",
   "id": "4c4b5643",
   "metadata": {
    "papermill": {
     "duration": 0.016417,
     "end_time": "2022-07-06T10:12:30.890506",
     "exception": false,
     "start_time": "2022-07-06T10:12:30.874089",
     "status": "completed"
    },
    "tags": []
   },
   "source": [
    "#### Checking Whether there is there any Transaction Amounts that are Negative or Zero\n",
    "\n",
    "we have to check if the amount column is always positive or not ?\n",
    " "
   ]
  },
  {
   "cell_type": "code",
   "execution_count": 17,
   "id": "dd5bc18b",
   "metadata": {
    "execution": {
     "iopub.execute_input": "2022-07-06T10:12:30.925908Z",
     "iopub.status.busy": "2022-07-06T10:12:30.925085Z",
     "iopub.status.idle": "2022-07-06T10:12:31.283486Z",
     "shell.execute_reply": "2022-07-06T10:12:31.281998Z"
    },
    "papermill": {
     "duration": 0.379681,
     "end_time": "2022-07-06T10:12:31.286928",
     "exception": false,
     "start_time": "2022-07-06T10:12:30.907247",
     "status": "completed"
    },
    "tags": []
   },
   "outputs": [
    {
     "name": "stdout",
     "output_type": "stream",
     "text": [
      "Number of transactions with amount is less 0?\n",
      "0\n",
      "Number of transactions with amount is equal to 0?\n",
      "16\n"
     ]
    }
   ],
   "source": [
    "print(\"Number of transactions with amount is less 0?\")\n",
    "print(len(df[df.amount<0]))\n",
    "\n",
    "print(\"Number of transactions with amount is equal to 0?\")\n",
    "print(len(df[df.amount==0]))"
   ]
  },
  {
   "cell_type": "markdown",
   "id": "11ca6302",
   "metadata": {
    "papermill": {
     "duration": 0.018272,
     "end_time": "2022-07-06T10:12:31.325013",
     "exception": false,
     "start_time": "2022-07-06T10:12:31.306741",
     "status": "completed"
    },
    "tags": []
   },
   "source": [
    "So there is 16 transacations when the amount is less than zero\n",
    "\n",
    "#### checking about these 16 transactions are of which type of payment methods they used and are they fraudulent trasacntions or not?"
   ]
  },
  {
   "cell_type": "code",
   "execution_count": 18,
   "id": "6df3a298",
   "metadata": {
    "execution": {
     "iopub.execute_input": "2022-07-06T10:12:31.364363Z",
     "iopub.status.busy": "2022-07-06T10:12:31.363775Z",
     "iopub.status.idle": "2022-07-06T10:12:31.406482Z",
     "shell.execute_reply": "2022-07-06T10:12:31.405532Z"
    },
    "papermill": {
     "duration": 0.067032,
     "end_time": "2022-07-06T10:12:31.409581",
     "exception": false,
     "start_time": "2022-07-06T10:12:31.342549",
     "status": "completed"
    },
    "tags": []
   },
   "outputs": [
    {
     "name": "stdout",
     "output_type": "stream",
     "text": [
      "What type of transactions are they?\n",
      "CASH_OUT    16\n",
      "Name: type, dtype: int64\n",
      "Are all these marked as Fraud Transactions?\n"
     ]
    },
    {
     "data": {
      "text/plain": [
       "True"
      ]
     },
     "execution_count": 18,
     "metadata": {},
     "output_type": "execute_result"
    }
   ],
   "source": [
    "\n",
    "print(\"What type of transactions are they?\")\n",
    "print(df[df.amount<=0]['type'].value_counts())\n",
    "\n",
    "print(\"Are all these marked as Fraud Transactions?\")\n",
    "df[df.amount<=0]['isFraud'].value_counts()[1] == len(df[df.amount<=0])\n"
   ]
  },
  {
   "cell_type": "markdown",
   "id": "df978147",
   "metadata": {
    "papermill": {
     "duration": 0.016855,
     "end_time": "2022-07-06T10:12:31.444601",
     "exception": false,
     "start_time": "2022-07-06T10:12:31.427746",
     "status": "completed"
    },
    "tags": []
   },
   "source": [
    "#### Checking whether the Falgged transactions are Fraudulent ones or not ?"
   ]
  },
  {
   "cell_type": "code",
   "execution_count": 19,
   "id": "feb94f5a",
   "metadata": {
    "execution": {
     "iopub.execute_input": "2022-07-06T10:12:31.481924Z",
     "iopub.status.busy": "2022-07-06T10:12:31.480999Z",
     "iopub.status.idle": "2022-07-06T10:12:31.499679Z",
     "shell.execute_reply": "2022-07-06T10:12:31.498564Z"
    },
    "papermill": {
     "duration": 0.040544,
     "end_time": "2022-07-06T10:12:31.502925",
     "exception": false,
     "start_time": "2022-07-06T10:12:31.462381",
     "status": "completed"
    },
    "tags": []
   },
   "outputs": [
    {
     "name": "stdout",
     "output_type": "stream",
     "text": [
      "How many frauds transactions are Flagged?:\n",
      "\t 16\n",
      "What type of transactions are they?\n",
      "\t TRANSFER\n",
      "Are all these flagged also marked as Fraud Transactions?\n",
      "\t True\n"
     ]
    }
   ],
   "source": [
    "df_temp = df[df.isFlaggedFraud==1]\n",
    "print(\"How many frauds transactions are Flagged?:\")\n",
    "print(\"\\t\",len(df_temp))\n",
    "\n",
    "print(\"What type of transactions are they?\")\n",
    "print(\"\\t\",df_temp['type'].value_counts().index[0])\n",
    "\n",
    "print(\"Are all these flagged also marked as Fraud Transactions?\")\n",
    "print(\"\\t\",df_temp['isFraud'].value_counts()[1] == len(df_temp))"
   ]
  },
  {
   "cell_type": "markdown",
   "id": "0a10b463",
   "metadata": {
    "papermill": {
     "duration": 0.017057,
     "end_time": "2022-07-06T10:12:31.538256",
     "exception": false,
     "start_time": "2022-07-06T10:12:31.521199",
     "status": "completed"
    },
    "tags": []
   },
   "source": [
    "Therefore, there is an almost equal likelihood that a fraudulent transaction can be\n",
    "CASH_OUT or TRANSFER\n",
    "\n",
    "All the fraud trnasactions belong to Transfer or Cash-out type, So, iam combinig all the type of payments(PAYMENT, CASH-IN and DEBIT) other than CASH-OUT and TRANSFER as OTHERS."
   ]
  },
  {
   "cell_type": "code",
   "execution_count": 20,
   "id": "6136bddb",
   "metadata": {
    "execution": {
     "iopub.execute_input": "2022-07-06T10:12:31.575267Z",
     "iopub.status.busy": "2022-07-06T10:12:31.574567Z",
     "iopub.status.idle": "2022-07-06T10:12:31.983961Z",
     "shell.execute_reply": "2022-07-06T10:12:31.982844Z"
    },
    "papermill": {
     "duration": 0.430882,
     "end_time": "2022-07-06T10:12:31.986362",
     "exception": false,
     "start_time": "2022-07-06T10:12:31.555480",
     "status": "completed"
    },
    "tags": []
   },
   "outputs": [
    {
     "data": {
      "text/plain": [
       "array(['PAYMENT', 'TRANSFER', 'CASH_OUT', 'DEBIT', 'CASH_IN'],\n",
       "      dtype=object)"
      ]
     },
     "execution_count": 20,
     "metadata": {},
     "output_type": "execute_result"
    }
   ],
   "source": [
    "df['type'].unique()"
   ]
  },
  {
   "cell_type": "code",
   "execution_count": 21,
   "id": "52ed39ac",
   "metadata": {
    "execution": {
     "iopub.execute_input": "2022-07-06T10:12:32.023705Z",
     "iopub.status.busy": "2022-07-06T10:12:32.022905Z",
     "iopub.status.idle": "2022-07-06T10:12:32.028596Z",
     "shell.execute_reply": "2022-07-06T10:12:32.027468Z"
    },
    "papermill": {
     "duration": 0.026876,
     "end_time": "2022-07-06T10:12:32.030775",
     "exception": false,
     "start_time": "2022-07-06T10:12:32.003899",
     "status": "completed"
    },
    "tags": []
   },
   "outputs": [],
   "source": [
    "type_map = {\n",
    "    'PAYMENT':'OTHERS',\n",
    "    'TRANSFER':'TRANSFER',\n",
    "    'CASH_OUT':'CASH_OUT',\n",
    "    'DEBIT':'OTHERS',\n",
    "    'CASH_IN':'OTHERS'\n",
    "}"
   ]
  },
  {
   "cell_type": "code",
   "execution_count": 22,
   "id": "f38af1db",
   "metadata": {
    "execution": {
     "iopub.execute_input": "2022-07-06T10:12:32.067760Z",
     "iopub.status.busy": "2022-07-06T10:12:32.067284Z",
     "iopub.status.idle": "2022-07-06T10:12:33.040972Z",
     "shell.execute_reply": "2022-07-06T10:12:33.039550Z"
    },
    "papermill": {
     "duration": 0.995223,
     "end_time": "2022-07-06T10:12:33.043665",
     "exception": false,
     "start_time": "2022-07-06T10:12:32.048442",
     "status": "completed"
    },
    "tags": []
   },
   "outputs": [
    {
     "data": {
      "text/plain": [
       "array(['OTHERS', 'TRANSFER', 'CASH_OUT'], dtype=object)"
      ]
     },
     "execution_count": 22,
     "metadata": {},
     "output_type": "execute_result"
    }
   ],
   "source": [
    "df['type'] = df['type'].map(type_map)\n",
    "\n",
    "df['type'].unique()"
   ]
  },
  {
   "cell_type": "markdown",
   "id": "11316db9",
   "metadata": {
    "papermill": {
     "duration": 0.018083,
     "end_time": "2022-07-06T10:12:33.080782",
     "exception": false,
     "start_time": "2022-07-06T10:12:33.062699",
     "status": "completed"
    },
    "tags": []
   },
   "source": [
    "### Fraud and Non-Fraud Transactions Count by Time Step"
   ]
  },
  {
   "cell_type": "code",
   "execution_count": 23,
   "id": "4695a135",
   "metadata": {
    "execution": {
     "iopub.execute_input": "2022-07-06T10:12:33.120309Z",
     "iopub.status.busy": "2022-07-06T10:12:33.119820Z",
     "iopub.status.idle": "2022-07-06T10:12:39.913620Z",
     "shell.execute_reply": "2022-07-06T10:12:39.912671Z"
    },
    "papermill": {
     "duration": 6.816942,
     "end_time": "2022-07-06T10:12:39.916553",
     "exception": false,
     "start_time": "2022-07-06T10:12:33.099611",
     "status": "completed"
    },
    "tags": []
   },
   "outputs": [
    {
     "data": {
      "image/png": "[encoded data removed]",
      "text/plain": [
       "<Figure size 432x288 with 1 Axes>"
      ]
     },
     "metadata": {
      "needs_background": "light"
     },
     "output_type": "display_data"
    }
   ],
   "source": [
    "fraud = df['isFraud'].isin([1])\n",
    "\n",
    "fraud_time = df[fraud].groupby(['step']).size().plot(kind='bar')\n",
    "fraud_time.set_xlabel(\"(time, isFraud)\")\n",
    "fraud_time.set_ylabel(\"time of transaction\")\n",
    "plt.show()"
   ]
  },
  {
   "cell_type": "markdown",
   "id": "9012c1fc",
   "metadata": {
    "papermill": {
     "duration": 0.017685,
     "end_time": "2022-07-06T10:12:39.958456",
     "exception": false,
     "start_time": "2022-07-06T10:12:39.940771",
     "status": "completed"
    },
    "tags": []
   },
   "source": [
    "The fraud transactions are almost uniformly spread out across time steps, so this variable is not giving us any information which might impact the target variable. so its better to drop this variable."
   ]
  },
  {
   "cell_type": "markdown",
   "id": "d86068b9",
   "metadata": {
    "papermill": {
     "duration": 0.018016,
     "end_time": "2022-07-06T10:12:39.996478",
     "exception": false,
     "start_time": "2022-07-06T10:12:39.978462",
     "status": "completed"
    },
    "tags": []
   },
   "source": [
    "### Train-Test Split"
   ]
  },
  {
   "cell_type": "code",
   "execution_count": 24,
   "id": "f48db07b",
   "metadata": {
    "execution": {
     "iopub.execute_input": "2022-07-06T10:12:40.033128Z",
     "iopub.status.busy": "2022-07-06T10:12:40.032694Z",
     "iopub.status.idle": "2022-07-06T10:12:40.249423Z",
     "shell.execute_reply": "2022-07-06T10:12:40.248272Z"
    },
    "papermill": {
     "duration": 0.237972,
     "end_time": "2022-07-06T10:12:40.252007",
     "exception": false,
     "start_time": "2022-07-06T10:12:40.014035",
     "status": "completed"
    },
    "tags": []
   },
   "outputs": [
    {
     "data": {
      "text/html": [
       "<div>\n",
       "<style scoped>\n",
       "    .dataframe tbody tr th:only-of-type {\n",
       "        vertical-align: middle;\n",
       "    }\n",
       "\n",
       "    .dataframe tbody tr th {\n",
       "        vertical-align: top;\n",
       "    }\n",
       "\n",
       "    .dataframe thead th {\n",
       "        text-align: right;\n",
       "    }\n",
       "</style>\n",
       "<table border=\"1\" class=\"dataframe\">\n",
       "  <thead>\n",
       "    <tr style=\"text-align: right;\">\n",
       "      <th></th>\n",
       "      <th>type</th>\n",
       "      <th>amount</th>\n",
       "      <th>newbalanceOrig</th>\n",
       "      <th>oldbalanceDest</th>\n",
       "      <th>origBalance_inacc</th>\n",
       "      <th>destBalance_inacc</th>\n",
       "    </tr>\n",
       "  </thead>\n",
       "  <tbody>\n",
       "    <tr>\n",
       "      <th>0</th>\n",
       "      <td>OTHERS</td>\n",
       "      <td>9839.64</td>\n",
       "      <td>160296.36</td>\n",
       "      <td>0.0</td>\n",
       "      <td>0</td>\n",
       "      <td>1</td>\n",
       "    </tr>\n",
       "    <tr>\n",
       "      <th>1</th>\n",
       "      <td>OTHERS</td>\n",
       "      <td>1864.28</td>\n",
       "      <td>19384.72</td>\n",
       "      <td>0.0</td>\n",
       "      <td>0</td>\n",
       "      <td>1</td>\n",
       "    </tr>\n",
       "    <tr>\n",
       "      <th>2</th>\n",
       "      <td>TRANSFER</td>\n",
       "      <td>181.00</td>\n",
       "      <td>0.00</td>\n",
       "      <td>0.0</td>\n",
       "      <td>0</td>\n",
       "      <td>1</td>\n",
       "    </tr>\n",
       "    <tr>\n",
       "      <th>3</th>\n",
       "      <td>CASH_OUT</td>\n",
       "      <td>181.00</td>\n",
       "      <td>0.00</td>\n",
       "      <td>21182.0</td>\n",
       "      <td>0</td>\n",
       "      <td>1</td>\n",
       "    </tr>\n",
       "    <tr>\n",
       "      <th>4</th>\n",
       "      <td>OTHERS</td>\n",
       "      <td>11668.14</td>\n",
       "      <td>29885.86</td>\n",
       "      <td>0.0</td>\n",
       "      <td>0</td>\n",
       "      <td>1</td>\n",
       "    </tr>\n",
       "  </tbody>\n",
       "</table>\n",
       "</div>"
      ],
      "text/plain": [
       "       type    amount  newbalanceOrig  oldbalanceDest  origBalance_inacc  \\\n",
       "0    OTHERS   9839.64       160296.36             0.0                  0   \n",
       "1    OTHERS   1864.28        19384.72             0.0                  0   \n",
       "2  TRANSFER    181.00            0.00             0.0                  0   \n",
       "3  CASH_OUT    181.00            0.00         21182.0                  0   \n",
       "4    OTHERS  11668.14        29885.86             0.0                  0   \n",
       "\n",
       "   destBalance_inacc  \n",
       "0                  1  \n",
       "1                  1  \n",
       "2                  1  \n",
       "3                  1  \n",
       "4                  1  "
      ]
     },
     "execution_count": 24,
     "metadata": {},
     "output_type": "execute_result"
    }
   ],
   "source": [
    "# deleting the unnecessary varibles from input data\n",
    "\n",
    "X = df.drop(columns=['step', 'newbalanceDest','oldbalanceOrg','nameOrig','nameDest','isFlaggedFraud','isFraud'])\n",
    "\n",
    "X.head()"
   ]
  },
  {
   "cell_type": "code",
   "execution_count": 25,
   "id": "fd0ca761",
   "metadata": {
    "execution": {
     "iopub.execute_input": "2022-07-06T10:12:40.290434Z",
     "iopub.status.busy": "2022-07-06T10:12:40.289944Z",
     "iopub.status.idle": "2022-07-06T10:12:40.297583Z",
     "shell.execute_reply": "2022-07-06T10:12:40.296424Z"
    },
    "papermill": {
     "duration": 0.029776,
     "end_time": "2022-07-06T10:12:40.300081",
     "exception": false,
     "start_time": "2022-07-06T10:12:40.270305",
     "status": "completed"
    },
    "tags": []
   },
   "outputs": [
    {
     "data": {
      "text/plain": [
       "0    0\n",
       "1    0\n",
       "2    1\n",
       "3    1\n",
       "4    0\n",
       "Name: isFraud, dtype: int64"
      ]
     },
     "execution_count": 25,
     "metadata": {},
     "output_type": "execute_result"
    }
   ],
   "source": [
    "y = df['isFraud']\n",
    "y.head()"
   ]
  },
  {
   "cell_type": "code",
   "execution_count": 26,
   "id": "89a85896",
   "metadata": {
    "execution": {
     "iopub.execute_input": "2022-07-06T10:12:40.339868Z",
     "iopub.status.busy": "2022-07-06T10:12:40.339028Z",
     "iopub.status.idle": "2022-07-06T10:12:40.380768Z",
     "shell.execute_reply": "2022-07-06T10:12:40.379718Z"
    },
    "papermill": {
     "duration": 0.064598,
     "end_time": "2022-07-06T10:12:40.383184",
     "exception": false,
     "start_time": "2022-07-06T10:12:40.318586",
     "status": "completed"
    },
    "tags": []
   },
   "outputs": [
    {
     "data": {
      "text/plain": [
       "0    6354407\n",
       "1       8213\n",
       "Name: isFraud, dtype: int64"
      ]
     },
     "execution_count": 26,
     "metadata": {},
     "output_type": "execute_result"
    }
   ],
   "source": [
    "y.value_counts()"
   ]
  },
  {
   "cell_type": "code",
   "execution_count": 27,
   "id": "458b0c2c",
   "metadata": {
    "execution": {
     "iopub.execute_input": "2022-07-06T10:12:40.421747Z",
     "iopub.status.busy": "2022-07-06T10:12:40.421245Z",
     "iopub.status.idle": "2022-07-06T10:12:43.629997Z",
     "shell.execute_reply": "2022-07-06T10:12:43.628848Z"
    },
    "papermill": {
     "duration": 3.23134,
     "end_time": "2022-07-06T10:12:43.632764",
     "exception": false,
     "start_time": "2022-07-06T10:12:40.401424",
     "status": "completed"
    },
    "tags": []
   },
   "outputs": [],
   "source": [
    "X_train, X_test, y_train, y_test = train_test_split(X, y, test_size=0.33, random_state=42)"
   ]
  },
  {
   "cell_type": "markdown",
   "id": "7da88c57",
   "metadata": {
    "papermill": {
     "duration": 0.018525,
     "end_time": "2022-07-06T10:12:43.669940",
     "exception": false,
     "start_time": "2022-07-06T10:12:43.651415",
     "status": "completed"
    },
    "tags": []
   },
   "source": [
    "## C] Data Preprocessing"
   ]
  },
  {
   "cell_type": "markdown",
   "id": "b452f9dc",
   "metadata": {
    "execution": {
     "iopub.execute_input": "2022-06-10T06:17:21.805385Z",
     "iopub.status.busy": "2022-06-10T06:17:21.804974Z",
     "iopub.status.idle": "2022-06-10T06:17:21.809612Z",
     "shell.execute_reply": "2022-06-10T06:17:21.808502Z",
     "shell.execute_reply.started": "2022-06-10T06:17:21.805352Z"
    },
    "papermill": {
     "duration": 0.017912,
     "end_time": "2022-07-06T10:12:43.705843",
     "exception": false,
     "start_time": "2022-07-06T10:12:43.687931",
     "status": "completed"
    },
    "tags": []
   },
   "source": [
    "###  Handling Categorical - Nominal Features (Encoding)\n",
    "\n",
    "\n",
    "\n",
    "#### One Hot Encoding"
   ]
  },
  {
   "cell_type": "code",
   "execution_count": 28,
   "id": "ffeed88c",
   "metadata": {
    "execution": {
     "iopub.execute_input": "2022-07-06T10:12:43.744247Z",
     "iopub.status.busy": "2022-07-06T10:12:43.743723Z",
     "iopub.status.idle": "2022-07-06T10:12:44.206846Z",
     "shell.execute_reply": "2022-07-06T10:12:44.205651Z"
    },
    "papermill": {
     "duration": 0.485562,
     "end_time": "2022-07-06T10:12:44.209558",
     "exception": false,
     "start_time": "2022-07-06T10:12:43.723996",
     "status": "completed"
    },
    "tags": []
   },
   "outputs": [],
   "source": [
    "dummies_type = pd.get_dummies(X_train['type'], prefix='type', drop_first=True)"
   ]
  },
  {
   "cell_type": "code",
   "execution_count": 29,
   "id": "a0469e55",
   "metadata": {
    "execution": {
     "iopub.execute_input": "2022-07-06T10:12:44.249062Z",
     "iopub.status.busy": "2022-07-06T10:12:44.248587Z",
     "iopub.status.idle": "2022-07-06T10:12:44.477077Z",
     "shell.execute_reply": "2022-07-06T10:12:44.475353Z"
    },
    "papermill": {
     "duration": 0.252184,
     "end_time": "2022-07-06T10:12:44.480034",
     "exception": false,
     "start_time": "2022-07-06T10:12:44.227850",
     "status": "completed"
    },
    "tags": []
   },
   "outputs": [],
   "source": [
    "X_train = pd.concat([X_train, dummies_type], axis=1)"
   ]
  },
  {
   "cell_type": "code",
   "execution_count": 30,
   "id": "c3dcbe6a",
   "metadata": {
    "execution": {
     "iopub.execute_input": "2022-07-06T10:12:44.520595Z",
     "iopub.status.busy": "2022-07-06T10:12:44.519770Z",
     "iopub.status.idle": "2022-07-06T10:12:44.534054Z",
     "shell.execute_reply": "2022-07-06T10:12:44.533215Z"
    },
    "papermill": {
     "duration": 0.036535,
     "end_time": "2022-07-06T10:12:44.536236",
     "exception": false,
     "start_time": "2022-07-06T10:12:44.499701",
     "status": "completed"
    },
    "tags": []
   },
   "outputs": [
    {
     "data": {
      "text/html": [
       "<div>\n",
       "<style scoped>\n",
       "    .dataframe tbody tr th:only-of-type {\n",
       "        vertical-align: middle;\n",
       "    }\n",
       "\n",
       "    .dataframe tbody tr th {\n",
       "        vertical-align: top;\n",
       "    }\n",
       "\n",
       "    .dataframe thead th {\n",
       "        text-align: right;\n",
       "    }\n",
       "</style>\n",
       "<table border=\"1\" class=\"dataframe\">\n",
       "  <thead>\n",
       "    <tr style=\"text-align: right;\">\n",
       "      <th></th>\n",
       "      <th>type</th>\n",
       "      <th>amount</th>\n",
       "      <th>newbalanceOrig</th>\n",
       "      <th>oldbalanceDest</th>\n",
       "      <th>origBalance_inacc</th>\n",
       "      <th>destBalance_inacc</th>\n",
       "      <th>type_OTHERS</th>\n",
       "      <th>type_TRANSFER</th>\n",
       "    </tr>\n",
       "  </thead>\n",
       "  <tbody>\n",
       "    <tr>\n",
       "      <th>1186641</th>\n",
       "      <td>OTHERS</td>\n",
       "      <td>186994.49</td>\n",
       "      <td>191974.49</td>\n",
       "      <td>2565463.66</td>\n",
       "      <td>1</td>\n",
       "      <td>1</td>\n",
       "      <td>1</td>\n",
       "      <td>0</td>\n",
       "    </tr>\n",
       "    <tr>\n",
       "      <th>1199598</th>\n",
       "      <td>CASH_OUT</td>\n",
       "      <td>86377.61</td>\n",
       "      <td>0.00</td>\n",
       "      <td>0.00</td>\n",
       "      <td>1</td>\n",
       "      <td>0</td>\n",
       "      <td>0</td>\n",
       "      <td>0</td>\n",
       "    </tr>\n",
       "    <tr>\n",
       "      <th>1185636</th>\n",
       "      <td>CASH_OUT</td>\n",
       "      <td>215489.19</td>\n",
       "      <td>0.00</td>\n",
       "      <td>6345756.55</td>\n",
       "      <td>1</td>\n",
       "      <td>1</td>\n",
       "      <td>0</td>\n",
       "      <td>0</td>\n",
       "    </tr>\n",
       "    <tr>\n",
       "      <th>6211424</th>\n",
       "      <td>TRANSFER</td>\n",
       "      <td>697319.21</td>\n",
       "      <td>0.00</td>\n",
       "      <td>2150239.95</td>\n",
       "      <td>1</td>\n",
       "      <td>0</td>\n",
       "      <td>0</td>\n",
       "      <td>1</td>\n",
       "    </tr>\n",
       "    <tr>\n",
       "      <th>4452703</th>\n",
       "      <td>OTHERS</td>\n",
       "      <td>59243.58</td>\n",
       "      <td>0.00</td>\n",
       "      <td>0.00</td>\n",
       "      <td>1</td>\n",
       "      <td>1</td>\n",
       "      <td>1</td>\n",
       "      <td>0</td>\n",
       "    </tr>\n",
       "  </tbody>\n",
       "</table>\n",
       "</div>"
      ],
      "text/plain": [
       "             type     amount  newbalanceOrig  oldbalanceDest  \\\n",
       "1186641    OTHERS  186994.49       191974.49      2565463.66   \n",
       "1199598  CASH_OUT   86377.61            0.00            0.00   \n",
       "1185636  CASH_OUT  215489.19            0.00      6345756.55   \n",
       "6211424  TRANSFER  697319.21            0.00      2150239.95   \n",
       "4452703    OTHERS   59243.58            0.00            0.00   \n",
       "\n",
       "         origBalance_inacc  destBalance_inacc  type_OTHERS  type_TRANSFER  \n",
       "1186641                  1                  1            1              0  \n",
       "1199598                  1                  0            0              0  \n",
       "1185636                  1                  1            0              0  \n",
       "6211424                  1                  0            0              1  \n",
       "4452703                  1                  1            1              0  "
      ]
     },
     "execution_count": 30,
     "metadata": {},
     "output_type": "execute_result"
    }
   ],
   "source": [
    "X_train.head()"
   ]
  },
  {
   "cell_type": "code",
   "execution_count": 31,
   "id": "795f1712",
   "metadata": {
    "execution": {
     "iopub.execute_input": "2022-07-06T10:12:44.576368Z",
     "iopub.status.busy": "2022-07-06T10:12:44.575532Z",
     "iopub.status.idle": "2022-07-06T10:12:44.698752Z",
     "shell.execute_reply": "2022-07-06T10:12:44.697701Z"
    },
    "papermill": {
     "duration": 0.146255,
     "end_time": "2022-07-06T10:12:44.701323",
     "exception": false,
     "start_time": "2022-07-06T10:12:44.555068",
     "status": "completed"
    },
    "tags": []
   },
   "outputs": [],
   "source": [
    "X_train = X_train.drop(columns=['type'])"
   ]
  },
  {
   "cell_type": "markdown",
   "id": "971bf274",
   "metadata": {
    "papermill": {
     "duration": 0.018243,
     "end_time": "2022-07-06T10:12:44.739546",
     "exception": false,
     "start_time": "2022-07-06T10:12:44.721303",
     "status": "completed"
    },
    "tags": []
   },
   "source": [
    "### Preprocessing the Test Data separately\n",
    "\n",
    "#### Nominal Features (To OneHot Encode)"
   ]
  },
  {
   "cell_type": "code",
   "execution_count": 32,
   "id": "a42e1263",
   "metadata": {
    "execution": {
     "iopub.execute_input": "2022-07-06T10:12:44.781627Z",
     "iopub.status.busy": "2022-07-06T10:12:44.780791Z",
     "iopub.status.idle": "2022-07-06T10:12:45.006413Z",
     "shell.execute_reply": "2022-07-06T10:12:45.005489Z"
    },
    "papermill": {
     "duration": 0.249676,
     "end_time": "2022-07-06T10:12:45.008816",
     "exception": false,
     "start_time": "2022-07-06T10:12:44.759140",
     "status": "completed"
    },
    "tags": []
   },
   "outputs": [],
   "source": [
    "dummies_type = pd.get_dummies(X_test['type'], prefix='type', drop_first=True)"
   ]
  },
  {
   "cell_type": "code",
   "execution_count": 33,
   "id": "baca3e0c",
   "metadata": {
    "execution": {
     "iopub.execute_input": "2022-07-06T10:12:45.049193Z",
     "iopub.status.busy": "2022-07-06T10:12:45.048086Z",
     "iopub.status.idle": "2022-07-06T10:12:45.149866Z",
     "shell.execute_reply": "2022-07-06T10:12:45.149020Z"
    },
    "papermill": {
     "duration": 0.124467,
     "end_time": "2022-07-06T10:12:45.152289",
     "exception": false,
     "start_time": "2022-07-06T10:12:45.027822",
     "status": "completed"
    },
    "tags": []
   },
   "outputs": [],
   "source": [
    "X_test = pd.concat([X_test, dummies_type], axis=1)"
   ]
  },
  {
   "cell_type": "code",
   "execution_count": 34,
   "id": "a7f6417f",
   "metadata": {
    "execution": {
     "iopub.execute_input": "2022-07-06T10:12:45.192943Z",
     "iopub.status.busy": "2022-07-06T10:12:45.192070Z",
     "iopub.status.idle": "2022-07-06T10:12:45.206280Z",
     "shell.execute_reply": "2022-07-06T10:12:45.205458Z"
    },
    "papermill": {
     "duration": 0.037111,
     "end_time": "2022-07-06T10:12:45.208350",
     "exception": false,
     "start_time": "2022-07-06T10:12:45.171239",
     "status": "completed"
    },
    "tags": []
   },
   "outputs": [
    {
     "data": {
      "text/html": [
       "<div>\n",
       "<style scoped>\n",
       "    .dataframe tbody tr th:only-of-type {\n",
       "        vertical-align: middle;\n",
       "    }\n",
       "\n",
       "    .dataframe tbody tr th {\n",
       "        vertical-align: top;\n",
       "    }\n",
       "\n",
       "    .dataframe thead th {\n",
       "        text-align: right;\n",
       "    }\n",
       "</style>\n",
       "<table border=\"1\" class=\"dataframe\">\n",
       "  <thead>\n",
       "    <tr style=\"text-align: right;\">\n",
       "      <th></th>\n",
       "      <th>type</th>\n",
       "      <th>amount</th>\n",
       "      <th>newbalanceOrig</th>\n",
       "      <th>oldbalanceDest</th>\n",
       "      <th>origBalance_inacc</th>\n",
       "      <th>destBalance_inacc</th>\n",
       "      <th>type_OTHERS</th>\n",
       "      <th>type_TRANSFER</th>\n",
       "    </tr>\n",
       "  </thead>\n",
       "  <tbody>\n",
       "    <tr>\n",
       "      <th>3737323</th>\n",
       "      <td>OTHERS</td>\n",
       "      <td>330218.42</td>\n",
       "      <td>351084.42</td>\n",
       "      <td>452419.57</td>\n",
       "      <td>1</td>\n",
       "      <td>1</td>\n",
       "      <td>1</td>\n",
       "      <td>0</td>\n",
       "    </tr>\n",
       "    <tr>\n",
       "      <th>264914</th>\n",
       "      <td>OTHERS</td>\n",
       "      <td>11647.08</td>\n",
       "      <td>18722.92</td>\n",
       "      <td>0.00</td>\n",
       "      <td>0</td>\n",
       "      <td>1</td>\n",
       "      <td>1</td>\n",
       "      <td>0</td>\n",
       "    </tr>\n",
       "    <tr>\n",
       "      <th>85647</th>\n",
       "      <td>OTHERS</td>\n",
       "      <td>152264.21</td>\n",
       "      <td>258853.21</td>\n",
       "      <td>201303.01</td>\n",
       "      <td>1</td>\n",
       "      <td>1</td>\n",
       "      <td>1</td>\n",
       "      <td>0</td>\n",
       "    </tr>\n",
       "    <tr>\n",
       "      <th>5899326</th>\n",
       "      <td>TRANSFER</td>\n",
       "      <td>1551760.63</td>\n",
       "      <td>0.00</td>\n",
       "      <td>3198359.45</td>\n",
       "      <td>1</td>\n",
       "      <td>0</td>\n",
       "      <td>0</td>\n",
       "      <td>1</td>\n",
       "    </tr>\n",
       "    <tr>\n",
       "      <th>2544263</th>\n",
       "      <td>OTHERS</td>\n",
       "      <td>78172.30</td>\n",
       "      <td>2999503.88</td>\n",
       "      <td>415821.90</td>\n",
       "      <td>1</td>\n",
       "      <td>1</td>\n",
       "      <td>1</td>\n",
       "      <td>0</td>\n",
       "    </tr>\n",
       "  </tbody>\n",
       "</table>\n",
       "</div>"
      ],
      "text/plain": [
       "             type      amount  newbalanceOrig  oldbalanceDest  \\\n",
       "3737323    OTHERS   330218.42       351084.42       452419.57   \n",
       "264914     OTHERS    11647.08        18722.92            0.00   \n",
       "85647      OTHERS   152264.21       258853.21       201303.01   \n",
       "5899326  TRANSFER  1551760.63            0.00      3198359.45   \n",
       "2544263    OTHERS    78172.30      2999503.88       415821.90   \n",
       "\n",
       "         origBalance_inacc  destBalance_inacc  type_OTHERS  type_TRANSFER  \n",
       "3737323                  1                  1            1              0  \n",
       "264914                   0                  1            1              0  \n",
       "85647                    1                  1            1              0  \n",
       "5899326                  1                  0            0              1  \n",
       "2544263                  1                  1            1              0  "
      ]
     },
     "execution_count": 34,
     "metadata": {},
     "output_type": "execute_result"
    }
   ],
   "source": [
    "X_test.head()"
   ]
  },
  {
   "cell_type": "code",
   "execution_count": 35,
   "id": "23e24282",
   "metadata": {
    "execution": {
     "iopub.execute_input": "2022-07-06T10:12:45.251395Z",
     "iopub.status.busy": "2022-07-06T10:12:45.250699Z",
     "iopub.status.idle": "2022-07-06T10:12:45.308075Z",
     "shell.execute_reply": "2022-07-06T10:12:45.307275Z"
    },
    "papermill": {
     "duration": 0.081352,
     "end_time": "2022-07-06T10:12:45.310667",
     "exception": false,
     "start_time": "2022-07-06T10:12:45.229315",
     "status": "completed"
    },
    "tags": []
   },
   "outputs": [],
   "source": [
    "X_test = X_test.drop(columns=['type'])"
   ]
  },
  {
   "cell_type": "code",
   "execution_count": 36,
   "id": "6a38f263",
   "metadata": {
    "execution": {
     "iopub.execute_input": "2022-07-06T10:12:45.351825Z",
     "iopub.status.busy": "2022-07-06T10:12:45.350969Z",
     "iopub.status.idle": "2022-07-06T10:12:45.358908Z",
     "shell.execute_reply": "2022-07-06T10:12:45.358147Z"
    },
    "papermill": {
     "duration": 0.031216,
     "end_time": "2022-07-06T10:12:45.360759",
     "exception": false,
     "start_time": "2022-07-06T10:12:45.329543",
     "status": "completed"
    },
    "tags": []
   },
   "outputs": [
    {
     "data": {
      "text/plain": [
       "True"
      ]
     },
     "execution_count": 36,
     "metadata": {},
     "output_type": "execute_result"
    }
   ],
   "source": [
    "(X_train.columns == X_test.columns).all()"
   ]
  },
  {
   "cell_type": "markdown",
   "id": "e531317f",
   "metadata": {
    "papermill": {
     "duration": 0.020109,
     "end_time": "2022-07-06T10:12:45.399939",
     "exception": false,
     "start_time": "2022-07-06T10:12:45.379830",
     "status": "completed"
    },
    "tags": []
   },
   "source": [
    "## Model Building"
   ]
  },
  {
   "cell_type": "markdown",
   "id": "84c95f33",
   "metadata": {
    "papermill": {
     "duration": 0.020305,
     "end_time": "2022-07-06T10:12:45.439760",
     "exception": false,
     "start_time": "2022-07-06T10:12:45.419455",
     "status": "completed"
    },
    "tags": []
   },
   "source": [
    "### Logistic Regression Model implementation"
   ]
  },
  {
   "cell_type": "code",
   "execution_count": 37,
   "id": "4a65c3c7",
   "metadata": {
    "execution": {
     "iopub.execute_input": "2022-07-06T10:12:45.479897Z",
     "iopub.status.busy": "2022-07-06T10:12:45.479144Z",
     "iopub.status.idle": "2022-07-06T10:12:56.516799Z",
     "shell.execute_reply": "2022-07-06T10:12:56.515648Z"
    },
    "papermill": {
     "duration": 11.060701,
     "end_time": "2022-07-06T10:12:56.519913",
     "exception": false,
     "start_time": "2022-07-06T10:12:45.459212",
     "status": "completed"
    },
    "tags": []
   },
   "outputs": [
    {
     "name": "stdout",
     "output_type": "stream",
     "text": [
      "0.44482334086628106\n"
     ]
    }
   ],
   "source": [
    "lr = LogisticRegression(class_weight=\"balanced\")\n",
    "\n",
    "lr_model = lr.fit(X_train, y_train)\n",
    "\n",
    "print(lr.score(X_test, y_test))"
   ]
  },
  {
   "cell_type": "markdown",
   "id": "503c6b54",
   "metadata": {
    "papermill": {
     "duration": 0.018513,
     "end_time": "2022-07-06T10:12:56.558345",
     "exception": false,
     "start_time": "2022-07-06T10:12:56.539832",
     "status": "completed"
    },
    "tags": []
   },
   "source": [
    "### Logistic Regression Model Performance"
   ]
  },
  {
   "cell_type": "code",
   "execution_count": 38,
   "id": "d137d83c",
   "metadata": {
    "execution": {
     "iopub.execute_input": "2022-07-06T10:12:56.601395Z",
     "iopub.status.busy": "2022-07-06T10:12:56.600454Z",
     "iopub.status.idle": "2022-07-06T10:12:56.733617Z",
     "shell.execute_reply": "2022-07-06T10:12:56.732146Z"
    },
    "papermill": {
     "duration": 0.16094,
     "end_time": "2022-07-06T10:12:56.737795",
     "exception": false,
     "start_time": "2022-07-06T10:12:56.576855",
     "status": "completed"
    },
    "tags": []
   },
   "outputs": [],
   "source": [
    "y_pred = lr_model.predict(X_test)"
   ]
  },
  {
   "cell_type": "code",
   "execution_count": 39,
   "id": "68d0ce93",
   "metadata": {
    "execution": {
     "iopub.execute_input": "2022-07-06T10:12:56.818709Z",
     "iopub.status.busy": "2022-07-06T10:12:56.817917Z",
     "iopub.status.idle": "2022-07-06T10:12:57.975884Z",
     "shell.execute_reply": "2022-07-06T10:12:57.974285Z"
    },
    "papermill": {
     "duration": 1.202106,
     "end_time": "2022-07-06T10:12:57.978775",
     "exception": false,
     "start_time": "2022-07-06T10:12:56.776669",
     "status": "completed"
    },
    "tags": []
   },
   "outputs": [
    {
     "data": {
      "image/png": "[encoded data removed]",
      "text/plain": [
       "<Figure size 432x288 with 2 Axes>"
      ]
     },
     "metadata": {
      "needs_background": "light"
     },
     "output_type": "display_data"
    }
   ],
   "source": [
    "plot_confusion_matrix(lr_model, X_test, y_test)\n",
    "plt.title('Confusion Matrix\\n')\n",
    "plt.show()"
   ]
  },
  {
   "cell_type": "code",
   "execution_count": 40,
   "id": "b9e25c16",
   "metadata": {
    "execution": {
     "iopub.execute_input": "2022-07-06T10:12:58.022042Z",
     "iopub.status.busy": "2022-07-06T10:12:58.020753Z",
     "iopub.status.idle": "2022-07-06T10:13:03.299015Z",
     "shell.execute_reply": "2022-07-06T10:13:03.297894Z"
    },
    "papermill": {
     "duration": 5.302304,
     "end_time": "2022-07-06T10:13:03.301323",
     "exception": false,
     "start_time": "2022-07-06T10:12:57.999019",
     "status": "completed"
    },
    "tags": []
   },
   "outputs": [
    {
     "name": "stdout",
     "output_type": "stream",
     "text": [
      "Classification Report:\n",
      "\n",
      "               precision    recall  f1-score   support\n",
      "\n",
      "           0       1.00      0.44      0.62   2096999\n",
      "           1       0.00      0.92      0.00      2666\n",
      "\n",
      "    accuracy                           0.44   2099665\n",
      "   macro avg       0.50      0.68      0.31   2099665\n",
      "weighted avg       1.00      0.44      0.61   2099665\n",
      "\n"
     ]
    }
   ],
   "source": [
    "print(\"Classification Report:\\n\\n\", classification_report(y_test, y_pred))"
   ]
  },
  {
   "cell_type": "code",
   "execution_count": 41,
   "id": "88f0e2fd",
   "metadata": {
    "execution": {
     "iopub.execute_input": "2022-07-06T10:13:03.343292Z",
     "iopub.status.busy": "2022-07-06T10:13:03.342442Z",
     "iopub.status.idle": "2022-07-06T10:13:04.512627Z",
     "shell.execute_reply": "2022-07-06T10:13:04.511287Z"
    },
    "papermill": {
     "duration": 1.195035,
     "end_time": "2022-07-06T10:13:04.515650",
     "exception": false,
     "start_time": "2022-07-06T10:13:03.320615",
     "status": "completed"
    },
    "tags": []
   },
   "outputs": [
    {
     "data": {
      "image/png": "[encoded data removed]",
      "text/plain": [
       "<Figure size 432x288 with 1 Axes>"
      ]
     },
     "metadata": {
      "needs_background": "light"
     },
     "output_type": "display_data"
    }
   ],
   "source": [
    "plot_roc_curve(lr_model, X_test, y_test)\n",
    "plt.title('ROC-AUC\\n')\n",
    "plt.show()"
   ]
  },
  {
   "cell_type": "markdown",
   "id": "86dce026",
   "metadata": {
    "papermill": {
     "duration": 0.022575,
     "end_time": "2022-07-06T10:13:04.560714",
     "exception": false,
     "start_time": "2022-07-06T10:13:04.538139",
     "status": "completed"
    },
    "tags": []
   },
   "source": [
    "#### RandomForest Algorithm implemetation "
   ]
  },
  {
   "cell_type": "code",
   "execution_count": 42,
   "id": "dd4c2e88",
   "metadata": {
    "execution": {
     "iopub.execute_input": "2022-07-06T10:13:04.607610Z",
     "iopub.status.busy": "2022-07-06T10:13:04.606547Z",
     "iopub.status.idle": "2022-07-06T10:13:04.612071Z",
     "shell.execute_reply": "2022-07-06T10:13:04.611075Z"
    },
    "papermill": {
     "duration": 0.030992,
     "end_time": "2022-07-06T10:13:04.614785",
     "exception": false,
     "start_time": "2022-07-06T10:13:04.583793",
     "status": "completed"
    },
    "tags": []
   },
   "outputs": [],
   "source": [
    "rf = RandomForestClassifier(class_weight=\"balanced\")"
   ]
  },
  {
   "cell_type": "code",
   "execution_count": 43,
   "id": "7f4c8fd1",
   "metadata": {
    "execution": {
     "iopub.execute_input": "2022-07-06T10:13:04.663288Z",
     "iopub.status.busy": "2022-07-06T10:13:04.662329Z",
     "iopub.status.idle": "2022-07-06T10:21:38.883333Z",
     "shell.execute_reply": "2022-07-06T10:21:38.882086Z"
    },
    "papermill": {
     "duration": 514.249566,
     "end_time": "2022-07-06T10:21:38.886348",
     "exception": false,
     "start_time": "2022-07-06T10:13:04.636782",
     "status": "completed"
    },
    "tags": []
   },
   "outputs": [],
   "source": [
    "rf_model = rf.fit(X_train, y_train)"
   ]
  },
  {
   "cell_type": "code",
   "execution_count": 44,
   "id": "244d0c55",
   "metadata": {
    "execution": {
     "iopub.execute_input": "2022-07-06T10:21:38.929563Z",
     "iopub.status.busy": "2022-07-06T10:21:38.928713Z",
     "iopub.status.idle": "2022-07-06T10:21:56.309730Z",
     "shell.execute_reply": "2022-07-06T10:21:56.308645Z"
    },
    "papermill": {
     "duration": 17.40537,
     "end_time": "2022-07-06T10:21:56.311896",
     "exception": false,
     "start_time": "2022-07-06T10:21:38.906526",
     "status": "completed"
    },
    "tags": []
   },
   "outputs": [
    {
     "data": {
      "text/plain": [
       "0.9999928560032195"
      ]
     },
     "execution_count": 44,
     "metadata": {},
     "output_type": "execute_result"
    }
   ],
   "source": [
    "rf_model.score(X_test, y_test)"
   ]
  },
  {
   "cell_type": "markdown",
   "id": "c698c75d",
   "metadata": {
    "papermill": {
     "duration": 0.018711,
     "end_time": "2022-07-06T10:21:56.350134",
     "exception": false,
     "start_time": "2022-07-06T10:21:56.331423",
     "status": "completed"
    },
    "tags": []
   },
   "source": [
    "## Tuning the Hyperparameters of RandomForest Model"
   ]
  },
  {
   "cell_type": "code",
   "execution_count": 45,
   "id": "22e79fe8",
   "metadata": {
    "execution": {
     "iopub.execute_input": "2022-07-06T10:21:56.390230Z",
     "iopub.status.busy": "2022-07-06T10:21:56.389769Z",
     "iopub.status.idle": "2022-07-06T10:21:56.395491Z",
     "shell.execute_reply": "2022-07-06T10:21:56.394441Z"
    },
    "papermill": {
     "duration": 0.028305,
     "end_time": "2022-07-06T10:21:56.397402",
     "exception": false,
     "start_time": "2022-07-06T10:21:56.369097",
     "status": "completed"
    },
    "tags": []
   },
   "outputs": [],
   "source": [
    "rf_params = {\n",
    "    'n_estimators' : [50,100,130,150],\n",
    "    'max_depth' : [4,5,1,2,None],\n",
    "    'min_samples_split' : [2,3,4,5],\n",
    "    'min_samples_leaf' : [1,4,10,20],\n",
    "    'max_leaf_nodes' : [2,5,10,None]\n",
    "    \n",
    "}"
   ]
  },
  {
   "cell_type": "code",
   "execution_count": 46,
   "id": "f2606a78",
   "metadata": {
    "execution": {
     "iopub.execute_input": "2022-07-06T10:21:56.438457Z",
     "iopub.status.busy": "2022-07-06T10:21:56.437785Z",
     "iopub.status.idle": "2022-07-06T10:21:56.442557Z",
     "shell.execute_reply": "2022-07-06T10:21:56.441836Z"
    },
    "papermill": {
     "duration": 0.027519,
     "end_time": "2022-07-06T10:21:56.444439",
     "exception": false,
     "start_time": "2022-07-06T10:21:56.416920",
     "status": "completed"
    },
    "tags": []
   },
   "outputs": [],
   "source": [
    "rf_rs = RandomizedSearchCV(rf, rf_params, cv=5, n_iter=5)"
   ]
  },
  {
   "cell_type": "code",
   "execution_count": 47,
   "id": "19e97570",
   "metadata": {
    "execution": {
     "iopub.execute_input": "2022-07-06T10:21:56.484767Z",
     "iopub.status.busy": "2022-07-06T10:21:56.484085Z",
     "iopub.status.idle": "2022-07-06T12:19:08.952687Z",
     "shell.execute_reply": "2022-07-06T12:19:08.951426Z"
    },
    "papermill": {
     "duration": 7032.491986,
     "end_time": "2022-07-06T12:19:08.955492",
     "exception": false,
     "start_time": "2022-07-06T10:21:56.463506",
     "status": "completed"
    },
    "tags": []
   },
   "outputs": [],
   "source": [
    "rf_best_model = rf_rs.fit(X_train, y_train)"
   ]
  },
  {
   "cell_type": "code",
   "execution_count": 48,
   "id": "f6422bf8",
   "metadata": {
    "execution": {
     "iopub.execute_input": "2022-07-06T12:19:08.998340Z",
     "iopub.status.busy": "2022-07-06T12:19:08.997385Z",
     "iopub.status.idle": "2022-07-06T12:19:25.266525Z",
     "shell.execute_reply": "2022-07-06T12:19:25.265576Z"
    },
    "papermill": {
     "duration": 16.291288,
     "end_time": "2022-07-06T12:19:25.268543",
     "exception": false,
     "start_time": "2022-07-06T12:19:08.977255",
     "status": "completed"
    },
    "tags": []
   },
   "outputs": [
    {
     "data": {
      "text/plain": [
       "0.9999904746709594"
      ]
     },
     "execution_count": 48,
     "metadata": {},
     "output_type": "execute_result"
    }
   ],
   "source": [
    "rf_best_model.score(X_test, y_test)"
   ]
  },
  {
   "cell_type": "code",
   "execution_count": 49,
   "id": "5104a447",
   "metadata": {
    "execution": {
     "iopub.execute_input": "2022-07-06T12:19:25.309415Z",
     "iopub.status.busy": "2022-07-06T12:19:25.308709Z",
     "iopub.status.idle": "2022-07-06T12:19:25.314738Z",
     "shell.execute_reply": "2022-07-06T12:19:25.313783Z"
    },
    "papermill": {
     "duration": 0.028245,
     "end_time": "2022-07-06T12:19:25.316766",
     "exception": false,
     "start_time": "2022-07-06T12:19:25.288521",
     "status": "completed"
    },
    "tags": []
   },
   "outputs": [
    {
     "data": {
      "text/plain": [
       "{'n_estimators': 100,\n",
       " 'min_samples_split': 4,\n",
       " 'min_samples_leaf': 4,\n",
       " 'max_leaf_nodes': None,\n",
       " 'max_depth': None}"
      ]
     },
     "execution_count": 49,
     "metadata": {},
     "output_type": "execute_result"
    }
   ],
   "source": [
    "rf_best_model.best_params_"
   ]
  },
  {
   "cell_type": "code",
   "execution_count": 50,
   "id": "74ae6a35",
   "metadata": {
    "execution": {
     "iopub.execute_input": "2022-07-06T12:19:25.357437Z",
     "iopub.status.busy": "2022-07-06T12:19:25.356707Z",
     "iopub.status.idle": "2022-07-06T12:19:25.365731Z",
     "shell.execute_reply": "2022-07-06T12:19:25.365056Z"
    },
    "papermill": {
     "duration": 0.031532,
     "end_time": "2022-07-06T12:19:25.367584",
     "exception": false,
     "start_time": "2022-07-06T12:19:25.336052",
     "status": "completed"
    },
    "tags": []
   },
   "outputs": [
    {
     "data": {
      "text/plain": [
       "RandomForestClassifier(class_weight='balanced', min_samples_leaf=4,\n",
       "                       min_samples_split=4)"
      ]
     },
     "execution_count": 50,
     "metadata": {},
     "output_type": "execute_result"
    }
   ],
   "source": [
    "rf_best_model.best_estimator_"
   ]
  },
  {
   "cell_type": "markdown",
   "id": "7f4d8d81",
   "metadata": {
    "papermill": {
     "duration": 0.019136,
     "end_time": "2022-07-06T12:19:25.406682",
     "exception": false,
     "start_time": "2022-07-06T12:19:25.387546",
     "status": "completed"
    },
    "tags": []
   },
   "source": [
    "### Random Forest Model Performance"
   ]
  },
  {
   "cell_type": "code",
   "execution_count": 51,
   "id": "a834633c",
   "metadata": {
    "execution": {
     "iopub.execute_input": "2022-07-06T12:19:25.448125Z",
     "iopub.status.busy": "2022-07-06T12:19:25.447506Z",
     "iopub.status.idle": "2022-07-06T12:19:41.324645Z",
     "shell.execute_reply": "2022-07-06T12:19:41.323800Z"
    },
    "papermill": {
     "duration": 15.900294,
     "end_time": "2022-07-06T12:19:41.326807",
     "exception": false,
     "start_time": "2022-07-06T12:19:25.426513",
     "status": "completed"
    },
    "tags": []
   },
   "outputs": [],
   "source": [
    "y_pred = rf_best_model.predict(X_test)"
   ]
  },
  {
   "cell_type": "code",
   "execution_count": 52,
   "id": "b514dd01",
   "metadata": {
    "execution": {
     "iopub.execute_input": "2022-07-06T12:19:41.369349Z",
     "iopub.status.busy": "2022-07-06T12:19:41.368813Z",
     "iopub.status.idle": "2022-07-06T12:19:58.127832Z",
     "shell.execute_reply": "2022-07-06T12:19:58.126847Z"
    },
    "papermill": {
     "duration": 16.782674,
     "end_time": "2022-07-06T12:19:58.129662",
     "exception": false,
     "start_time": "2022-07-06T12:19:41.346988",
     "status": "completed"
    },
    "tags": []
   },
   "outputs": [
    {
     "data": {
      "image/png": "[encoded data removed]",
      "text/plain": [
       "<Figure size 432x288 with 2 Axes>"
      ]
     },
     "metadata": {
      "needs_background": "light"
     },
     "output_type": "display_data"
    }
   ],
   "source": [
    "plot_confusion_matrix(rf_best_model, X_test, y_test)\n",
    "plt.title('Confusion Matrix\\n')\n",
    "plt.show()"
   ]
  },
  {
   "cell_type": "code",
   "execution_count": 53,
   "id": "cf0a332c",
   "metadata": {
    "execution": {
     "iopub.execute_input": "2022-07-06T12:19:58.171263Z",
     "iopub.status.busy": "2022-07-06T12:19:58.170821Z",
     "iopub.status.idle": "2022-07-06T12:20:02.030493Z",
     "shell.execute_reply": "2022-07-06T12:20:02.029650Z"
    },
    "papermill": {
     "duration": 3.882991,
     "end_time": "2022-07-06T12:20:02.032653",
     "exception": false,
     "start_time": "2022-07-06T12:19:58.149662",
     "status": "completed"
    },
    "tags": []
   },
   "outputs": [
    {
     "name": "stdout",
     "output_type": "stream",
     "text": [
      "Classification Report:\n",
      "\n",
      "               precision    recall  f1-score   support\n",
      "\n",
      "           0       1.00      1.00      1.00   2096999\n",
      "           1       1.00      1.00      1.00      2666\n",
      "\n",
      "    accuracy                           1.00   2099665\n",
      "   macro avg       1.00      1.00      1.00   2099665\n",
      "weighted avg       1.00      1.00      1.00   2099665\n",
      "\n"
     ]
    }
   ],
   "source": [
    "print(\"Classification Report:\\n\\n\", classification_report(y_test, y_pred))"
   ]
  },
  {
   "cell_type": "code",
   "execution_count": 54,
   "id": "de6437ea",
   "metadata": {
    "execution": {
     "iopub.execute_input": "2022-07-06T12:20:02.076127Z",
     "iopub.status.busy": "2022-07-06T12:20:02.075611Z",
     "iopub.status.idle": "2022-07-06T12:20:18.346627Z",
     "shell.execute_reply": "2022-07-06T12:20:18.345631Z"
    },
    "papermill": {
     "duration": 16.294804,
     "end_time": "2022-07-06T12:20:18.348629",
     "exception": false,
     "start_time": "2022-07-06T12:20:02.053825",
     "status": "completed"
    },
    "tags": []
   },
   "outputs": [
    {
     "data": {
      "image/png": "[encoded data removed]",
      "text/plain": [
       "<Figure size 432x288 with 1 Axes>"
      ]
     },
     "metadata": {
      "needs_background": "light"
     },
     "output_type": "display_data"
    }
   ],
   "source": [
    "plot_roc_curve(rf_best_model, X_test, y_test)\n",
    "plt.title('ROC-AUC\\n')\n",
    "plt.show()"
   ]
  }
 ],
 "metadata": {
  "kernelspec": {
   "display_name": "Python 3",
   "language": "python",
   "name": "python3"
  },
  "language_info": {
   "codemirror_mode": {
    "name": "ipython",
    "version": 3
   },
   "file_extension": ".py",
   "mimetype": "text/x-python",
   "name": "python",
   "nbconvert_exporter": "python",
   "pygments_lexer": "ipython3",
   "version": "3.7.12"
  },
  "papermill": {
   "default_parameters": {},
   "duration": 7713.471213,
   "end_time": "2022-07-06T12:20:21.000038",
   "environment_variables": {},
   "exception": null,
   "input_path": "__notebook__.ipynb",
   "output_path": "__notebook__.ipynb",
   "parameters": {},
   "start_time": "2022-07-06T10:11:47.528825",
   "version": "2.3.4"
  }
 },
 "nbformat": 4,
 "nbformat_minor": 5
}
